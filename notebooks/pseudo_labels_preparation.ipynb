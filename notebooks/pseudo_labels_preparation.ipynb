{
 "cells": [
  {
   "cell_type": "code",
   "id": "initial_id",
   "metadata": {
    "collapsed": true,
    "ExecuteTime": {
     "end_time": "2024-04-26T01:51:19.229334Z",
     "start_time": "2024-04-26T01:51:19.024090Z"
    }
   },
   "source": [
    "import pandas as pd\n",
    "import numpy as np\n",
    "import os"
   ],
   "outputs": [],
   "execution_count": 1
  },
  {
   "metadata": {
    "ExecuteTime": {
     "end_time": "2024-04-26T01:51:40.314889Z",
     "start_time": "2024-04-26T01:51:40.312489Z"
    }
   },
   "cell_type": "code",
   "source": "base_data_path = \"../data\"",
   "id": "c072a10bf8574f88",
   "outputs": [],
   "execution_count": 3
  },
  {
   "metadata": {
    "ExecuteTime": {
     "end_time": "2024-04-26T01:44:55.607766Z",
     "start_time": "2024-04-26T01:44:53.733859Z"
    }
   },
   "cell_type": "code",
   "source": [
    "\n",
    "\n",
    "\n",
    "#Prepare 2024 DF with pretrain fold split\n",
    "\n",
    "train_df = pd.read_csv(os.path.join(base_data_path, 'birdclef-2024/train_meta_data_pseudo.csv'))\n",
    "pretrain_df = pd.read_csv(os.path.join(base_data_path, 'folds_4_comps_training_metdata.csv'))\n",
    "pretrain_df = pretrain_df[pretrain_df[\"year\"] == 2024].reset_index(drop=True)\n",
    "print (\"Unmatched Rows\", train_df[pretrain_df[\"filename\"] == train_df[\"filename\"]].shape[0] - train_df.shape[0])\n",
    "train_df[\"fold\"] = pretrain_df[\"fold\"]\n",
    "train_df[\"path\"] = pretrain_df[\"path\"]\n",
    "\n",
    "columns = train_df.columns[2:-2]\n",
    "print (\"Classes\", columns)\n",
    "train_df['teacher_preds']= train_df[columns.tolist()].values.tolist()\n",
    "train_df = train_df[[\"path\", \"fold\", \"teacher_preds\"]]\n",
    "\n",
    "train_df.to_csv(os.path.join(base_data_path, 'birdclef-2024/train_meta_data_pseudo_2024_fold.csv'), index=False)"
   ],
   "id": "8e2121666dc8b533",
   "outputs": [
    {
     "name": "stderr",
     "output_type": "stream",
     "text": [
      "C:\\Users\\sahme\\AppData\\Local\\Temp\\ipykernel_26700\\2664155301.py:4: DtypeWarning: Columns (8,12) have mixed types. Specify dtype option on import or set low_memory=False.\n",
      "  pretrain_df = pd.read_csv(os.path.join(base_data_path, 'folds_4_comps_training_metdata.csv'))\n"
     ]
    },
    {
     "name": "stdout",
     "output_type": "stream",
     "text": [
      "Unmatched Rows 0\n",
      "Classes Index(['asbfly', 'ashdro1', 'ashpri1', 'ashwoo2', 'asikoe2', 'asiope1',\n",
      "       'aspfly1', 'aspswi1', 'barfly1', 'barswa',\n",
      "       ...\n",
      "       'whbwoo2', 'whcbar1', 'whiter2', 'whrmun', 'whtkin2', 'woosan',\n",
      "       'wynlau1', 'yebbab1', 'yebbul3', 'zitcis1'],\n",
      "      dtype='object', length=182)\n"
     ]
    }
   ],
   "execution_count": 18
  },
  {
   "metadata": {
    "ExecuteTime": {
     "end_time": "2024-04-26T01:44:55.609751Z",
     "start_time": "2024-04-26T01:44:55.607766Z"
    }
   },
   "cell_type": "code",
   "source": "",
   "id": "da6a565980f5034c",
   "outputs": [],
   "execution_count": 18
  },
  {
   "metadata": {
    "ExecuteTime": {
     "end_time": "2024-04-26T01:44:56.163884Z",
     "start_time": "2024-04-26T01:44:55.609751Z"
    }
   },
   "cell_type": "code",
   "source": [
    "base_data_path = \"../data\"\n",
    "unlabeled_df_24 = pd.read_csv(os.path.join(base_data_path, 'birdclef-2024/unlabelled_meta_data_pseudo_24.csv'))\n",
    "unlabeled_df_24['teacher_preds']= unlabeled_df_24[columns.tolist()].values.tolist()\n",
    "unlabeled_df_24[\"fold\"] = -1\n",
    "unlabeled_df_24[\"path\"] = '../data\\\\birdclef-2024/' + unlabeled_df_24[\"filename\"]\n",
    "unlabeled_df_24 = unlabeled_df_24[[\"path\", \"fold\", \"teacher_preds\"]]\n",
    "unlabeled_df_24.to_csv(os.path.join(base_data_path, 'birdclef-2024/unlabeled_pseudo_24.csv'), index=False)"
   ],
   "id": "73aa434a7acea6ec",
   "outputs": [],
   "execution_count": 19
  },
  {
   "metadata": {
    "ExecuteTime": {
     "end_time": "2024-04-26T01:41:39.637321Z",
     "start_time": "2024-04-26T01:41:39.605234Z"
    }
   },
   "cell_type": "code",
   "source": "",
   "id": "80a2021e2a13ff88",
   "outputs": [],
   "execution_count": 4
  },
  {
   "metadata": {
    "ExecuteTime": {
     "end_time": "2024-04-26T01:43:19.031599Z",
     "start_time": "2024-04-26T01:43:19.028083Z"
    }
   },
   "cell_type": "code",
   "source": "",
   "id": "a428307a644bc608",
   "outputs": [],
   "execution_count": 9
  },
  {
   "metadata": {
    "ExecuteTime": {
     "end_time": "2024-04-26T01:44:59.949949Z",
     "start_time": "2024-04-26T01:44:58.366796Z"
    }
   },
   "cell_type": "code",
   "source": [
    "df = pd.concat([train_df, unlabeled_df_24], ignore_index=True)\n",
    "df.to_csv(os.path.join(base_data_path, 'pseudo_labels.csv'), index=False)"
   ],
   "id": "49855f7453c0639",
   "outputs": [],
   "execution_count": 20
  },
  {
   "metadata": {
    "ExecuteTime": {
     "end_time": "2024-04-26T01:45:01.834335Z",
     "start_time": "2024-04-26T01:45:01.831728Z"
    }
   },
   "cell_type": "code",
   "source": "df.shape",
   "id": "83768f0c7fe86b53",
   "outputs": [
    {
     "data": {
      "text/plain": [
       "(32903, 3)"
      ]
     },
     "execution_count": 21,
     "metadata": {},
     "output_type": "execute_result"
    }
   ],
   "execution_count": 21
  },
  {
   "metadata": {},
   "cell_type": "code",
   "outputs": [],
   "execution_count": null,
   "source": "",
   "id": "c956f3d4e8936a2a"
  },
  {
   "metadata": {},
   "cell_type": "code",
   "outputs": [],
   "execution_count": null,
   "source": "",
   "id": "58053199d85a31c1"
  }
 ],
 "metadata": {
  "kernelspec": {
   "display_name": "Python 3",
   "language": "python",
   "name": "python3"
  },
  "language_info": {
   "codemirror_mode": {
    "name": "ipython",
    "version": 2
   },
   "file_extension": ".py",
   "mimetype": "text/x-python",
   "name": "python",
   "nbconvert_exporter": "python",
   "pygments_lexer": "ipython2",
   "version": "2.7.6"
  }
 },
 "nbformat": 4,
 "nbformat_minor": 5
}
